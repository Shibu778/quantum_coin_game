{
 "cells": [
  {
   "cell_type": "code",
   "execution_count": null,
   "id": "07527636-b4f5-42cf-ac37-dfeec92e775f",
   "metadata": {},
   "outputs": [],
   "source": []
  },
  {
   "cell_type": "markdown",
   "id": "bc0c1e94-d71d-46df-a787-c36fb6dfea08",
   "metadata": {},
   "source": [
    "# Play in Classical Computer"
   ]
  },
  {
   "cell_type": "code",
   "execution_count": 74,
   "id": "18882dcf-198e-44be-a805-9f46540046f3",
   "metadata": {},
   "outputs": [
    {
     "name": "stdout",
     "output_type": "stream",
     "text": [
      "[1. 0.]\n",
      "You Lost! Classical Computer Wins!\n"
     ]
    }
   ],
   "source": [
    "# Serial Code\n",
    "# Import libraries\n",
    "import numpy as np\n",
    "import random\n",
    "\n",
    "# Define the operators : flipping and identity\n",
    "flipping_operator = np.array([[0,1],[1,0]], dtype=float)\n",
    "identity_operator = np.array([[1,0],[0,1]], dtype=float)\n",
    "\n",
    "# Define the head and tail state\n",
    "head = np.array([1,0], dtype=float)\n",
    "tail = np.array([0, 1], dtype=float)\n",
    "\n",
    "# Initialize the game\n",
    "initial_state = head\n",
    "current_state = initial_state\n",
    "\n",
    "# First move by computer\n",
    "comp_choice = random.choice([0,1])\n",
    "if comp_choice == 0:\n",
    "    current_state = np.matmul(identity_operator, current_state)\n",
    "else:\n",
    "    current_state = np.matmul(flipping_operator, current_state)\n",
    "\n",
    "# Second move by human\n",
    "user_choice = 1\n",
    "if user_choice == 0:\n",
    "    current_state = np.matmul(identity_operator, current_state)\n",
    "else:\n",
    "    current_state = np.matmul(flipping_operator, current_state)\n",
    "\n",
    "# Third move by computer\n",
    "comp_choice = random.choice([0,1])\n",
    "if comp_choice == 0:\n",
    "    current_state = np.matmul(identity_operator, current_state)\n",
    "else:\n",
    "    current_state = np.matmul(flipping_operator, current_state)\n",
    "\n",
    "# Comparing the current state and deciding the winner\n",
    "comp = current_state == head\n",
    "if comp.all():\n",
    "    print('You Lost! Classical Computer Wins!')\n",
    "else:\n",
    "    print('Youn Win! Classical Computer Lost!')"
   ]
  },
  {
   "cell_type": "code",
   "execution_count": 83,
   "id": "510e3677-6258-490a-8fd9-4260131df240",
   "metadata": {},
   "outputs": [],
   "source": [
    "# Writing the functions\n",
    "def flipping_function(choice, current_state):\n",
    "    \"\"\"\n",
    "    This function takes a choice and current_state. If the choice is 0,\n",
    "    it applies the identity operator and keeps the current_state same. If \n",
    "    the choice is 1, it applies the flipping operator to the current state \n",
    "    and flips the current state.\n",
    "    \n",
    "    Parameters :\n",
    "    ============\n",
    "    choice : int\n",
    "        Either 0 and 1, representing do not flip or flip respectively\n",
    "    \n",
    "    current_state : np.array(2x1)\n",
    "        Current state representing head or tail as follows\n",
    "        head = np.array([1,0], dtype=float)\n",
    "        tail = np.array([0, 1], dtype=float)\n",
    "        \n",
    "    Returns :\n",
    "    =========\n",
    "    current_state : np.array(2x1)\n",
    "        Current state after flipping or identity representing head or tail as follows\n",
    "        head = np.array([1,0], dtype=float)\n",
    "        tail = np.array([0, 1], dtype=float)\n",
    "    \"\"\"\n",
    "    flipping_operator = np.array([[0,1],[1,0]], dtype=float)\n",
    "    identity_operator = np.array([[1,0],[0,1]], dtype=float)\n",
    "    if choice == 0:\n",
    "        current_state = np.matmul(identity_operator, current_state)\n",
    "    else:\n",
    "        current_state = np.matmul(flipping_operator, current_state)\n",
    "    \n",
    "    return current_state\n",
    "\n",
    "\n",
    "def check_head_tail(current_state):\n",
    "    \"\"\"\n",
    "    A function to check whether the current state is head or tail.\n",
    "    If the current state is head it returns H else if the current \n",
    "    state is tail it returns T.\n",
    "    \n",
    "    Parameters :\n",
    "    ============\n",
    "    current_state : np.array(2x1)\n",
    "        Current state representing head or tail as follows\n",
    "        head = np.array([1,0], dtype=float)\n",
    "        tail = np.array([0, 1], dtype=float)\n",
    "        \n",
    "    Returns :\n",
    "    =========\n",
    "    'H' or 'T' : str\n",
    "        Head or tail\n",
    "    \"\"\"\n",
    "    head = np.array([1,0], dtype=float)\n",
    "    tail = np.array([0, 1], dtype=float)\n",
    "    comp = current_state == head\n",
    "    if comp.all():\n",
    "        return 'H'\n",
    "    else:\n",
    "        return 'T'\n",
    "\n",
    "def play_game_n_times(n, verbosity=0):\n",
    "    \"\"\"\n",
    "    This function takes the number of time you want to play the game and \n",
    "    generate random choices of flipping and not flipping by the computer and\n",
    "    determines the number of times you win and number of times computer wins.\n",
    "    \n",
    "    Parameters:\n",
    "    ===========\n",
    "    n : int\n",
    "        Number of times you want to play the game\n",
    "    verbosity : 0 or 1 or 2\n",
    "        If the verbosity is 0 it will not print the result at each iteration\n",
    "        If the verbosity is 1 it will print the result of each game.\n",
    "        If the verbosity is 2 or other number, it will not print the result at \n",
    "        each game but it will print the result as a python list\n",
    "    \n",
    "    Returns :\n",
    "    =========\n",
    "    results : list\n",
    "        A python list containing the results of all the experiment\n",
    "    \"\"\"\n",
    "    # Define the head and tail state\n",
    "    head = np.array([1,0], dtype=float)\n",
    "    tail = np.array([0, 1], dtype=float)\n",
    "\n",
    "    # Initialize the game\n",
    "    initial_state = head\n",
    "    current_state = initial_state\n",
    "    \n",
    "    results = []\n",
    "    for i in range(n):\n",
    "        # Get the choices\n",
    "        user_choice = random.choice([0,1])\n",
    "        comp_choice1 = random.choice([0,1])\n",
    "        comp_choice2 = random.choice([0,1])\n",
    "        \n",
    "        # Play the game and determine the winner\n",
    "        current_state = flipping_function(comp_choice1, current_state)\n",
    "        current_state = flipping_function(user_choice, current_state)\n",
    "        current_state = flipping_function(comp_choice2, current_state)\n",
    "\n",
    "        result = check_head_tail(current_state)\n",
    "        results.append(result)\n",
    "        \n",
    "        if verbosity == 1:\n",
    "            if result == 'H':\n",
    "                print('You Lost! Classical Computer Wins!')\n",
    "            else:\n",
    "                print('Youn Win! Classical Computer Lost!')\n",
    "                \n",
    "    if verbosity == 0:\n",
    "        pass\n",
    "    elif verbosity == 1:\n",
    "        pass\n",
    "    else:\n",
    "        print(results)\n",
    "    \n",
    "    return results\n",
    "    \n",
    "# Test\n",
    "# current_state = head\n",
    "# choice = 1\n",
    "# head, flipping_function(choice, current_state)\n",
    "# check_head_tail(tail)\n"
   ]
  },
  {
   "cell_type": "code",
   "execution_count": 82,
   "id": "06746b5a-bbfe-4181-ae03-31d7d2ff32bf",
   "metadata": {},
   "outputs": [
    {
     "name": "stdin",
     "output_type": "stream",
     "text": [
      "Give your choice to flip (1) or not flip(0) :  0\n"
     ]
    },
    {
     "name": "stdout",
     "output_type": "stream",
     "text": [
      "Youn Win! Classical Computer Lost!\n"
     ]
    }
   ],
   "source": [
    "# Using Functions\n",
    "# Define the head and tail state\n",
    "head = np.array([1,0], dtype=float)\n",
    "tail = np.array([0, 1], dtype=float)\n",
    "\n",
    "# Initialize the game\n",
    "initial_state = head\n",
    "current_state = initial_state\n",
    "\n",
    "# Get the choices\n",
    "user_choice = input(\"Give your choice to flip (1) or not flip(0) : \")\n",
    "comp_choice1 = random.choice([0,1])\n",
    "comp_choice2 = random.choice([0,1])\n",
    "\n",
    "# Play the game and determine the winner\n",
    "current_state = flipping_function(comp_choice1, current_state)\n",
    "current_state = flipping_function(user_choice, current_state)\n",
    "current_state = flipping_function(comp_choice2, current_state)\n",
    "\n",
    "result = check_head_tail(current_state)\n",
    "if result == 'H':\n",
    "    print('You Lost! Classical Computer Wins!')\n",
    "else:\n",
    "    print('Youn Win! Classical Computer Lost!')"
   ]
  },
  {
   "cell_type": "code",
   "execution_count": 88,
   "id": "806dac96-cd38-4b71-9ef7-197f587bd8d5",
   "metadata": {},
   "outputs": [],
   "source": [
    "results = play_game_n_times(100, 0)\n"
   ]
  },
  {
   "cell_type": "code",
   "execution_count": null,
   "id": "4da75616-3c82-4995-995c-16b8e9163f44",
   "metadata": {},
   "outputs": [],
   "source": [
    "# GUI \n",
    "human_player = widgets.Text('Your Name' ,layout=Layout(width='33.33%', height='50px'))\n",
    "heading = widgets.HBox([widgets.Label('Computer',layout=Layout(width='33.33%', height='50px')), widgets.Label('Versus' ,layout=Layout(width='33.33%', height='50px')), human_player], layout=Layout(width='100%', height='50px'))\n",
    "display(heading)\n",
    "\n",
    "step1 = widgets.Button(description=\"Initialize the Coin\", layout=Layout(width='100%', height='50px', margin='auto', padding='10px'))\n",
    "output = widgets.Output(layout=Layout(width='50%', height='auto', padding='10px'))\n",
    "step2 = widgets.Button(description=\"Computer's First Turn\", layout=Layout(width='100%', height='50px', margin='auto', padding='10px',top_margin='10px'))\n",
    "step3 = widgets.Dropdown(options=[('Do not Flip', 0), ('Flip', 1)],description=\"Your Choice:\", disabled=False, layout=Layout(width='60%', height='50px', margin='auto'))\n",
    "step3a = widgets.Button(description=\"Proceed\", layout=Layout(width='40%', height='50px', margin='auto', padding='10px',top_margin='10px'))\n",
    "step4 = widgets.Button(description=\"Computer's Second Turn\", layout=Layout(width='100%', height='50px', margin='auto'))\n",
    "step5 = widgets.Button(description=\"Measure\", layout=Layout(width='100%', height='50px', margin='auto'))\n",
    "vbox = widgets.VBox([step1, step2, widgets.HBox([step3, step3a]), step4, step5], layout=Layout(width='50%', height='auto', padding='10px'))\n",
    "vbox1 = widgets.HBox([vbox, output])\n",
    "display(vbox1)\n",
    "def step1_action(b):\n",
    "    with output:\n",
    "        clear_output()\n",
    "        print(\"The coin is initialized to Head!\\n\")\n",
    "        \n",
    "def step2_action(b):\n",
    "    with output:\n",
    "        print(\"Computer has played its first move!\\n\")\n",
    "        \n",
    "def step3_action(b):\n",
    "    with output:\n",
    "        if step3.value == 1:\n",
    "            print(\"You have chosen to flip the coin!\\n\")\n",
    "        else:\n",
    "            print(\"You do not want to flip the coin!\\n\")\n",
    "def step4_action(b):\n",
    "    with output:\n",
    "        print(\"Computer has played its second move!\\n\")\n",
    "        \n",
    "def step5_action(b):\n",
    "    with output:\n",
    "        head = np.array([1,0], dtype=float)\n",
    "        tail = np.array([0, 1], dtype=float)\n",
    "\n",
    "        # Initialize the game\n",
    "        initial_state = head\n",
    "        current_state = initial_state\n",
    "\n",
    "        # Get the choices\n",
    "        user_choice = step3.value\n",
    "        comp_choice1 = random.choice([0,1])\n",
    "        comp_choice2 = random.choice([0,1])\n",
    "\n",
    "        # Play the game and determine the winner\n",
    "        current_state = flipping_function(comp_choice1, current_state)\n",
    "        current_state = flipping_function(user_choice, current_state)\n",
    "        current_state = flipping_function(comp_choice2, current_state)\n",
    "\n",
    "        result = check_head_tail(current_state)\n",
    "        if result == 'H':\n",
    "            print(human_player.value + ' Lost! Classical Computer Wins!\\n')\n",
    "        else:\n",
    "            print(human_player.value + ' Win! Classical Computer Lost!\\n')\n",
    "        \n",
    "step1.on_click(step1_action)\n",
    "step2.on_click(step2_action)\n",
    "step3a.on_click(step3_action)\n",
    "step4.on_click(step4_action)\n",
    "step5.on_click(step5_action)"
   ]
  },
  {
   "cell_type": "code",
   "execution_count": null,
   "id": "502a400d-14ba-400a-b4a8-61552f4ced8c",
   "metadata": {},
   "outputs": [],
   "source": [
    "head = np.array([1,0], dtype=float)\n",
    "tail = np.array([0, 1], dtype=float)\n",
    "results = []\n",
    "for i in range(number_of_times.value):\n",
    "\n",
    "    # Initialize the game\n",
    "    initial_state = head\n",
    "    current_state = initial_state\n",
    "\n",
    "    # Get the choices\n",
    "    user_choice = random.choice([0,1])\n",
    "    comp_choice1 = random.choice([0,1])\n",
    "    comp_choice2 = random.choice([0,1])\n",
    "\n",
    "    # Play the game and determine the winner\n",
    "    current_state = flipping_function(comp_choice1, current_state)\n",
    "    current_state = flipping_function(user_choice, current_state)\n",
    "    current_state = flipping_function(comp_choice2, current_state)\n",
    "\n",
    "    result = check_head_tail(current_state)\n",
    "    results.append(result)"
   ]
  },
  {
   "cell_type": "code",
   "execution_count": null,
   "id": "a8287b69-4a7f-48c5-bf82-56d7ed2af0c5",
   "metadata": {},
   "outputs": [],
   "source": [
    "from collections import Counter\n",
    "s = dict(Counter(results))\n",
    "ax = plot_histogram(s)"
   ]
  },
  {
   "cell_type": "code",
   "execution_count": null,
   "id": "4e9702fb-2b53-42fb-80fc-ee16b0fefb87",
   "metadata": {},
   "outputs": [],
   "source": [
    "# import functools\n",
    "# plot_histogram(s)"
   ]
  },
  {
   "cell_type": "code",
   "execution_count": null,
   "id": "723b8376-e5f9-41d4-8299-72b465ad39fe",
   "metadata": {},
   "outputs": [],
   "source": []
  },
  {
   "cell_type": "markdown",
   "id": "80f32a12-fa5e-4545-b47a-7f7bbd7cb420",
   "metadata": {},
   "source": [
    "# Play in Quantum Computer Simulator"
   ]
  },
  {
   "cell_type": "code",
   "execution_count": 1,
   "id": "ab11d5d0-7000-4c5d-b67c-b4ace314a5ba",
   "metadata": {},
   "outputs": [
    {
     "data": {
      "application/vnd.jupyter.widget-view+json": {
       "model_id": "a57e666afc8148a9b88e8282294c91af",
       "version_major": 2,
       "version_minor": 0
      },
      "text/plain": [
       "VBox(children=(Dropdown(description='Choice: ', options=(('Identity', 'i'), ('Bit Flip', 'x')), value='i'), Bu…"
      ]
     },
     "metadata": {},
     "output_type": "display_data"
    }
   ],
   "source": [
    "# Importing all the necessary library\n",
    "from qiskit import QuantumCircuit, Aer, IBMQ, QuantumRegister, ClassicalRegister, execute\n",
    "from qiskit.tools.jupyter import *\n",
    "from qiskit.visualization import *\n",
    "import qiskit.tools.jupyter\n",
    "import ipywidgets as widgets\n",
    "\n",
    "# Layout\n",
    "button_p = widgets.Button(\n",
    "    description='Play')\n",
    "gate_p = widgets.Dropdown(\n",
    "    options=[('Identity', 'i'), ('Bit Flip', 'x')],\n",
    "    description='Choice: ',\n",
    "    disabled=False,\n",
    ")\n",
    "out_p = widgets.Output()\n",
    "def on_button_clicked(b):\n",
    "    with out_p:\n",
    "        \n",
    "        # Initial Circuit\n",
    "        circuit_p = QuantumRegister(1, 'circuit')\n",
    "        measure_p = ClassicalRegister(1, 'result')\n",
    "        qc_p = QuantumCircuit(circuit_p, measure_p)\n",
    "        \n",
    "        # Turn 1\n",
    "        qc_p.h(circuit_p[0])\n",
    "        \n",
    "        # Turn 2\n",
    "        if gate_p.value == 'i':\n",
    "            qc_p.i(circuit_p[0])\n",
    "        if gate_p.value == 'x':\n",
    "            qc_p.x(circuit_p[0])\n",
    "        \n",
    "        # Turn 3\n",
    "        qc_p.h(circuit_p[0])\n",
    "        \n",
    "        # Measure  \n",
    "        qc_p.measure(circuit_p, measure_p)\n",
    "        \n",
    "        # QASM\n",
    "        backend_p = Aer.get_backend('aer_simulator')\n",
    "        job_p = execute(qc_p, backend_p, shots=8192)\n",
    "        res_p = job_p.result().get_counts()\n",
    "        \n",
    "        # Result\n",
    "        if len(res_p) == 1 and list(res_p.keys())[0] == '0':\n",
    "            print(\"You Lose to Quantum. Quantum Computer Wins\")\n",
    "        if len(res_p) == 1 and list(res_p.keys())[0] == '1':\n",
    "            print(\"You Win against Quantum Computer\")\n",
    "        if len(res_p) == 2:\n",
    "            print(\"Either Quantum or You Wins\")\n",
    "\n",
    "button_p.on_click(on_button_clicked)\n",
    "widgets.VBox([gate_p, button_p, out_p])"
   ]
  },
  {
   "cell_type": "code",
   "execution_count": 2,
   "id": "77ae2920-ca63-4249-a3e1-a43523aa29c3",
   "metadata": {},
   "outputs": [],
   "source": [
    "# Importing all the necessary library\n",
    "from qiskit import QuantumCircuit, Aer, IBMQ, QuantumRegister, ClassicalRegister, execute\n",
    "from qiskit.tools.jupyter import *\n",
    "from qiskit.visualization import *\n",
    "import qiskit.tools.jupyter\n",
    "import ipywidgets as widgets\n",
    "\n",
    "circuit_p = QuantumRegister(1, 'circuit')\n",
    "measure_p = ClassicalRegister(1, 'result')\n",
    "qc_p = QuantumCircuit(circuit_p, measure_p)\n",
    "qc_p.h(circuit_p[0])\n",
    "qc_p.x(circuit_p[0])\n",
    "qc_p.h(circuit_p[0])\n",
    "qc_p.measure(circuit_p, measure_p)\n",
    "backend_p = Aer.get_backend('aer_simulator')\n",
    "job_p = execute(qc_p, backend_p, shots=8192)"
   ]
  },
  {
   "cell_type": "code",
   "execution_count": 5,
   "id": "529373d2-4fa2-4b93-86cd-b370621bc41d",
   "metadata": {},
   "outputs": [
    {
     "data": {
      "text/plain": [
       "{'0': 8192}"
      ]
     },
     "execution_count": 5,
     "metadata": {},
     "output_type": "execute_result"
    }
   ],
   "source": [
    "job_p.result().get_counts()"
   ]
  },
  {
   "cell_type": "code",
   "execution_count": 21,
   "id": "3a8878af-e605-42f3-8cf2-b4dd27279fa0",
   "metadata": {},
   "outputs": [
    {
     "data": {
      "image/png": "[encoded data removed]",
      "text/plain": [
       "<Figure size 507.603x200.667 with 1 Axes>"
      ]
     },
     "execution_count": 21,
     "metadata": {},
     "output_type": "execute_result"
    }
   ],
   "source": [
    "qc_p.draw('mpl')"
   ]
  },
  {
   "cell_type": "code",
   "execution_count": 23,
   "id": "20875740-2a40-4640-b654-1d3469af8498",
   "metadata": {},
   "outputs": [],
   "source": [
    "res = job_p.result().get_counts()"
   ]
  },
  {
   "cell_type": "code",
   "execution_count": 24,
   "id": "abfc00a3-a4d0-43ba-85e6-f3a2d11cd2aa",
   "metadata": {},
   "outputs": [
    {
     "data": {
      "image/png": "[encoded data removed]",
      "text/plain": [
       "<Figure size 700x500 with 1 Axes>"
      ]
     },
     "execution_count": 24,
     "metadata": {},
     "output_type": "execute_result"
    }
   ],
   "source": [
    "plot_histogram(res)"
   ]
  },
  {
   "cell_type": "code",
   "execution_count": null,
   "id": "908b93c1-bf28-47dc-a246-42118368cde4",
   "metadata": {},
   "outputs": [],
   "source": []
  },
  {
   "cell_type": "code",
   "execution_count": null,
   "id": "ff9a3379-07e9-400e-8928-a308364ca6a1",
   "metadata": {},
   "outputs": [],
   "source": []
  },
  {
   "cell_type": "code",
   "execution_count": null,
   "id": "cc1ae864-528a-4c44-879d-6b980d01e92b",
   "metadata": {},
   "outputs": [],
   "source": []
  },
  {
   "cell_type": "markdown",
   "id": "c5acaa68-686e-471a-8183-3a02e1e271db",
   "metadata": {},
   "source": [
    "# Play in Actual Quantum Computer"
   ]
  },
  {
   "cell_type": "code",
   "execution_count": null,
   "id": "9d296885-8823-4a3d-83c3-6bef0eb433d9",
   "metadata": {},
   "outputs": [],
   "source": [
    "TOKEN = '08f81af1eb53e4e95bf1320007d38731fb30856cf88aa44fd9088125ea51e443c2069d3cc13fc8bb38fe926fb274793bb0c2b4be71f6e08dff818895504f90f0'\n",
    "IBMQ.save_account(TOKEN)\n",
    "provider = IBMQ.load_account()\n",
    "backend_real = provider.get_backend('ibmq_manila')\n",
    "job_real = execute(qc, backend_real, shots=8192)\n",
    "res_real = job_real.result().get_counts()\n",
    "print(res_real)\n",
    "plot_histogram(res_real)"
   ]
  },
  {
   "cell_type": "code",
   "execution_count": 26,
   "id": "e0f282a9-84ca-43d0-96c8-3b9f9803ee00",
   "metadata": {},
   "outputs": [
    {
     "name": "stdout",
     "output_type": "stream",
     "text": [
      "{0: 99.1455078125, 1: 0.8544921875}\n"
     ]
    },
    {
     "data": {
      "image/png": "[encoded data removed]",
      "text/plain": [
       "<Figure size 700x500 with 1 Axes>"
      ]
     },
     "execution_count": 26,
     "metadata": {},
     "output_type": "execute_result"
    }
   ],
   "source": [
    "res_real = {0:99.1455078125, 1: 0.8544921875}\n",
    "print(res_real)\n",
    "plot_histogram(res_real)"
   ]
  },
  {
   "cell_type": "code",
   "execution_count": null,
   "id": "15f743d2-4d61-4ae3-9c30-9b40cb2cf452",
   "metadata": {},
   "outputs": [],
   "source": []
  },
  {
   "cell_type": "code",
   "execution_count": null,
   "id": "f208c7db-1573-4433-bbd9-54794f0c5293",
   "metadata": {},
   "outputs": [],
   "source": []
  },
  {
   "cell_type": "code",
   "execution_count": null,
   "id": "e73ca871-d5b1-413f-8fe3-e2dfb40f6132",
   "metadata": {},
   "outputs": [],
   "source": []
  },
  {
   "cell_type": "code",
   "execution_count": null,
   "id": "625c95aa-653d-42ec-8f44-b091b1f74051",
   "metadata": {},
   "outputs": [],
   "source": []
  },
  {
   "cell_type": "markdown",
   "id": "782e1a72-8edd-4b72-80db-8927a92bf755",
   "metadata": {},
   "source": [
    "# Code Dump"
   ]
  },
  {
   "cell_type": "code",
   "execution_count": null,
   "id": "6174302a-addf-44ce-932a-8f130bdda89c",
   "metadata": {},
   "outputs": [],
   "source": [
    "from IPython.display import display\n",
    "button = widgets.Button(description=\"Click Me!\")\n",
    "output = widgets.Output()\n",
    "\n",
    "display(button, output)\n",
    "\n",
    "def on_button_clicked(b):\n",
    "    with output:\n",
    "        print(\"Button clicked.\")\n",
    "\n",
    "button.on_click(on_button_clicked)"
   ]
  },
  {
   "cell_type": "code",
   "execution_count": null,
   "id": "2aebe7c7-09fb-4c10-9c05-3aad5ae9dd16",
   "metadata": {},
   "outputs": [],
   "source": [
    "from ipywidgets import widgets\n",
    "from IPython.display import display\n",
    "from traitlets import traitlets\n",
    "\n",
    "class LoadedButton(widgets.Button):\n",
    "    \"\"\"A button that can holds a value as a attribute.\"\"\"\n",
    "\n",
    "    def __init__(self, value=None, *args, **kwargs):\n",
    "        super(LoadedButton, self).__init__(*args, **kwargs)\n",
    "        # Create the value attribute.\n",
    "        self.add_traits(value=traitlets.Any(value))\n",
    "\n",
    "def add_num(ex):\n",
    "    ex.value = ex.value+1\n",
    "    print(ex.value)\n",
    "\n",
    "lb = LoadedButton(description=\"Loaded\", value=1)\n",
    "lb.on_click(add_num)\n",
    "display(lb)"
   ]
  },
  {
   "cell_type": "code",
   "execution_count": null,
   "id": "4aedf6d2-0f82-408b-ad86-d12d12e59e40",
   "metadata": {},
   "outputs": [],
   "source": [
    "# Layout\n",
    "button_p = LoadedButton(value={},\n",
    "    description='Play')\n",
    "result_p = LoadedButton(value={},\n",
    "    description='Results')\n",
    "gate_p = widgets.Dropdown(\n",
    "    options=[('Identity', 'i'), ('Bit Flip', 'x')],\n",
    "    description='Choice: ',\n",
    "    disabled=False,\n",
    ")\n",
    "out_p1 = widgets.Output()\n",
    "def on_button_clicked(b):\n",
    "    with out_p1:\n",
    "        \n",
    "        # Initial Circuit\n",
    "        circuit_p = QuantumRegister(1, 'circuit')\n",
    "        measure_p = ClassicalRegister(1, 'result')\n",
    "        qc_p = QuantumCircuit(circuit_p, measure_p)\n",
    "        \n",
    "        # Turn 1\n",
    "        qc_p.h(circuit_p[0])\n",
    "        \n",
    "        # Turn 2\n",
    "        if gate_p.value == 'i':\n",
    "            qc_p.i(circuit_p[0])\n",
    "        if gate_p.value == 'x':\n",
    "            qc_p.x(circuit_p[0])\n",
    "        \n",
    "        # Turn 3\n",
    "        qc_p.h(circuit_p[0])\n",
    "        \n",
    "        # Measure  \n",
    "        qc_p.measure(circuit_p, measure_p)\n",
    "        \n",
    "        # QASM\n",
    "        #TOKEN = '08f81af1eb53e4e95bf1320007d38731fb30856cf88aa44fd9088125ea51e443c2069d3cc13fc8bb38fe926fb274793bb0c2b4be71f6e08dff818895504f90f0'\n",
    "        #IBMQ.save_account(TOKEN)\n",
    "        #provider = IBMQ.load_account()\n",
    "        #backend_real = provider.get_backend('ibmq_manila')\n",
    "        #job_real = execute(qc, backend_real, shots=8192)\n",
    "        #res_real = job_real.result().get_counts()\n",
    "        res_real = {}\n",
    "        res_real['0'] = 8125\n",
    "        res_real['1'] = 67\n",
    "        if len(res_real) == 1:\n",
    "            if res_real['0']:\n",
    "                button_p.value['H'] = res_real['0']\n",
    "                button_p.value['T'] = 0\n",
    "            elif res_real['1']:\n",
    "                button_p.value['T'] = res_real['1']\n",
    "                button_p.value['H'] = 0\n",
    "        if len(res_real) == 2:\n",
    "            button_p.value['H'] = res_real['0']\n",
    "            button_p.value['T'] = res_real['1']\n",
    "        # Result\n",
    "        if len(res_real) == 1 and list(res_real.keys())[0] == '0':\n",
    "            print(\"You Lose to Quantum. Quantum Computer Wins\")\n",
    "        if len(res_real) == 1 and list(res_real.keys())[0] == '1':\n",
    "            print(\"You Win against Quantum Computer\")\n",
    "        if len(res_real) == 2:\n",
    "            print(\"Either Quantum or You Wins\")\n",
    "\n",
    "            \n",
    "def on_result_clicked(b):\n",
    "    with out_p1:\n",
    "        clear_output()\n",
    "        width = 0.5\n",
    "        color = '#E8D5C4'\n",
    "        values = np.array(list(button_p.value.values()))/sum(button_p.value.values())\n",
    "        bar = plt.bar(button_p.value.keys(), values, width, color=color)\n",
    "        plt.ylabel(\"Probabilities\")\n",
    "        plt.grid(axis='y', linestyle=\"--\")\n",
    "        plt.ylim(0, max(values)+0.1)\n",
    "        i = 0\n",
    "        for rect in bar:\n",
    "            plt.text(rect.get_x()+width/2, values[i], str(values[i]), ha='center', va='bottom')\n",
    "            i += 1\n",
    "        plt.show()\n",
    "\n",
    "button_p.on_click(on_button_clicked)\n",
    "result_p.on_click(on_result_clicked)\n",
    "widgets.VBox([gate_p, button_p,result_p, out_p1])"
   ]
  }
 ],
 "metadata": {
  "kernelspec": {
   "display_name": "Python 3 (ipykernel)",
   "language": "python",
   "name": "python3"
  },
  "language_info": {
   "codemirror_mode": {
    "name": "ipython",
    "version": 3
   },
   "file_extension": ".py",
   "mimetype": "text/x-python",
   "name": "python",
   "nbconvert_exporter": "python",
   "pygments_lexer": "ipython3",
   "version": "3.8.15"
  }
 },
 "nbformat": 4,
 "nbformat_minor": 5
}
