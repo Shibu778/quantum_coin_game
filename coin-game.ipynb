{
 "cells": [
  {
   "cell_type": "markdown",
   "metadata": {
    "id": "D5Zxkmb_FKWG",
    "tags": [
     "remove_cell"
    ]
   },
   "source": [
    "# Quantum Coin Game"
   ]
  },
  {
   "cell_type": "markdown",
   "metadata": {},
   "source": [
    "### Table of Contents\n",
    "\n",
    "1. [Introduction](#introduction)<br>\n",
    "   1.1 [What is Quantum Coin Game](#quantum_definition)<br>\n",
    "   1.2 [Concept](#concept)<br>\n",
    "   1.3 [Idea](#idea)<br>\n",
    "   1.4 [Rules of the Game](#rules)<br>\n",
    "2. [Play It](#play_it)<br>\n",
    "3. [Analogy](#analogy)<br>\n",
    "4. [Approach](#approach)<br>\n",
    "5. [Optimal Strategy](#optimal)<br>\n",
    "   5.1 [Play it with Qiskit](#quantum_play)<br>\n",
    "   5.2 [Measurement](#quantum_measurement)<br>\n",
    "   5.3 [QASM Simulator](#quantum_qasm)<br>\n",
    "   5.4 [Who Wins?](#quantum_wins)<br>\n",
    "   5.5 [Running on Quantum Computer](#real_qc)<br> \n",
    "6. [Conclusion](#conclusion)<br>\n",
    "7. [References](#references)<br>\n",
    "8. [Quick Exercise](#quick_exercise)<br>\n",
    "9. [Version Information](#version_information)"
   ]
  },
  {
   "cell_type": "markdown",
   "metadata": {
    "id": "TJDBzM7PFsQN"
   },
   "source": [
    "### Introduction <a id=\"introduction\"></a>\n",
    "\n",
    "\n",
    "### What is Quantum Coin Game ? <a id=\"quantum_definition\"></a>\n",
    " Quantum Coin Game is one of the fundamental concept of quantum computing, which uses simple implementation of quantum gates or more precisely uses the wierdness of quantum mechanics, to win about 97% of the time, when played against an opponent. Flipping of coin and say heads or tails.\n",
    "\n",
    "### Where the concept came from ? <a id=\"concept\"></a>\n",
    " The concept of Quantum Coin Game came from the idea of classical coin game which can only show heads and tails. But since the game utilizes the concepts of quantum mechanics, it would be interesting to see what could be the outcome of the whole experiment.\n",
    "\n",
    "### What is the main idea of this game ? <a id=\"idea\"></a>\n",
    " The main concept of this game is how the quantum computer uses the power of quantum superposition, which tells an object can exists in 2 different states at the same time, to win absolutely everytime.\n",
    "\n",
    " **NOTE**: To learn more about quantum superposition, link to \"[Qiskit Textbook](https://qiskit.org/textbook/ch-states/representing-qubit-states.html)\" superposition page.\n",
    "\n",
    "### What are the rules of this game ? <a id=\"rules\"></a>\n",
    " 1. Quantum Computer plays a move but it is not revealed to the Opponent(Human).\n",
    " 2. Opponent(Human) plays a move and it is also not revealed to the Quantum Computer.\n",
    " 3. Finally Quantum Computer plays a move.\n",
    " 4. Results are shown. If its heads, then Quantum Computer wins. Else, Opponent(Human) wins.\n",
    " \n",
    "**NOTE**: \"Playing a move\" refers to \"Flipping the coin\" and we consider the coin as fair coin.\n",
    "\n",
    "**NOTE**: Refer to [Shohini's Ted Talk](#conclusion)"
   ]
  },
  {
   "cell_type": "markdown",
   "metadata": {
    "tags": []
   },
   "source": [
    "#### **Play it** <a id=\"play_it\"></a>"
   ]
  },
  {
   "cell_type": "code",
   "execution_count": null,
   "metadata": {},
   "outputs": [],
   "source": [
    "# Importing all the necessary library\n",
    "from qiskit import QuantumCircuit, Aer, IBMQ, QuantumRegister, ClassicalRegister, execute\n",
    "from qiskit.tools.jupyter import *\n",
    "from qiskit.visualization import *\n",
    "import qiskit.tools.jupyter\n",
    "import ipywidgets as widgets\n",
    "\n",
    "# Layout\n",
    "button_p = widgets.Button(\n",
    "    description='Play')\n",
    "gate_p = widgets.Dropdown(\n",
    "    options=[('Identity', 'i'), ('Bit Flip', 'x')],\n",
    "    description='Choice: ',\n",
    "    disabled=False,\n",
    ")\n",
    "out_p = widgets.Output()\n",
    "def on_button_clicked(b):\n",
    "    with out_p:\n",
    "        \n",
    "        # Initial Circuit\n",
    "        circuit_p = QuantumRegister(1, 'circuit')\n",
    "        measure_p = ClassicalRegister(1, 'result')\n",
    "        qc_p = QuantumCircuit(circuit_p, measure_p)\n",
    "        \n",
    "        # Turn 1\n",
    "        qc_p.h(circuit_p[0])\n",
    "        \n",
    "        # Turn 2\n",
    "        if gate_p.value == 'i':\n",
    "            qc_p.i(circuit_p[0])\n",
    "        if gate_p.value == 'x':\n",
    "            qc_p.x(circuit_p[0])\n",
    "        \n",
    "        # Turn 3\n",
    "        qc_p.h(circuit_p[0])\n",
    "        \n",
    "        # Measure  \n",
    "        qc_p.measure(circuit_p, measure_p)\n",
    "        \n",
    "        # QASM\n",
    "        backend_p = Aer.get_backend('aer_simulator')\n",
    "        job_p = execute(qc_p, backend_p, shots=8192)\n",
    "        res_p = job_p.result().get_counts()\n",
    "        \n",
    "        # Result\n",
    "        if len(res_p) == 1 and list(res_p.keys())[0] == '0':\n",
    "            print(\"You Lose to Quantum. Quantum Computer Wins\")\n",
    "        if len(res_p) == 1 and list(res_p.keys())[0] == '1':\n",
    "            print(\"You Win against Quantum Computer\")\n",
    "        if len(res_p) == 2:\n",
    "            print(\"Either Quantum or You Wins\")\n",
    "\n",
    "button_p.on_click(on_button_clicked)\n",
    "widgets.VBox([gate_p, button_p, out_p])"
   ]
  },
  {
   "cell_type": "markdown",
   "metadata": {
    "id": "TMsXKAxk6-dt"
   },
   "source": [
    "### Analogy <a id=\"analogy\"></a>\n",
    "\n",
    "Now that we know what is a quantum coin game, what is it based on and most importantly what are the rules of this game, lets convert the concept of this game in quantum computing terminology.\n",
    "\n",
    "* The 'coin' in flipping a coin we referring here is a 'single qubit gate'.\n",
    "\n",
    "$$\n",
    "      |\\psi\\rangle=\\begin{bmatrix}\\alpha \\\\ \\beta\\end{bmatrix}\n",
    "$$\n",
    "\n",
    "  where $\\alpha, \\beta \\in \\mathbb{C}$ and $|\\alpha|^2 + |\\beta|^2 = 1$\n",
    "\n",
    "\n",
    "* \"Flipping\" the coin is application of the bit-flip operator\n",
    "\n",
    "$$\n",
    "  X = \\begin{bmatrix} 0 & 1 \\\\ 1 & 0 \\end{bmatrix}\n",
    "$$\n",
    "\n",
    "* The \"heads\" state is defined as \n",
    "$$\n",
    "|0\\rangle = \\begin{bmatrix} 1 \\\\ 0 \\end{bmatrix}\n",
    "$$ and \"tails\" as \n",
    "$$\n",
    "|1\\rangle = \\begin{bmatrix} 0 \\\\ 1 \\end{bmatrix}\n",
    "$$\n",
    "\n",
    "* The quantum computer \"plays\" by applying the Hadamard $H$ operator \n",
    "$$\n",
    "H = \\frac{1}{\\sqrt{2}} \\begin{bmatrix}  1 & 1 \\\\ 1 & -1 \\end{bmatrix}\n",
    "$$\n"
   ]
  },
  {
   "cell_type": "markdown",
   "metadata": {
    "id": "PdPizFWxBr5m"
   },
   "source": [
    "### Approach <a id=\"approach\"></a>\n",
    "\n",
    "Lets see how to approach the game in quantum computing terminology-\n",
    "\n",
    "* The coin is initialized to the $|0\\rangle$ \"heads\" state.\n",
    "\n",
    "* The computer plays, applying the Hadamard $H$ operator to the coin (operators are applied using matrix multiplication). \n",
    "$$\n",
    "H|0\\rangle = \\frac{1}{\\sqrt2}(|0\\rangle + |1\\rangle)\n",
    "$$\n",
    "The coin enters the \n",
    "$$\n",
    "H|0\\rangle = |+\\rangle = \\frac{1}{\\sqrt{2}} \\begin{bmatrix}  1 \\\\ 1 \\end{bmatrix}\n",
    "$$\n",
    "state.\n",
    "\n",
    "\n",
    "* The human plays, choosing whether to flip the coin (apply the $X$ operator) or do nothing (apply the $I$ operator). However, since the $X$ operator just flips the state vector upside down, $X$ has no effect. Same goes for $I$.\n",
    "$$\n",
    "X|+\\rangle=|+\\rangle \n",
    "$$\n",
    "$$\n",
    "I|+\\rangle=|+\\rangle \n",
    "$$\n",
    "No matter what, the state is $|+\\rangle$ after the human plays.\n",
    "\n",
    "* The computer plays, applying the Hadamard $H$ operator again, taking the coin to the $|0⟩$ \"heads\" state.\n",
    "$$\n",
    "H|+\\rangle = |0\\rangle\n",
    "$$"
   ]
  },
  {
   "cell_type": "code",
   "execution_count": 1,
   "metadata": {
    "id": "mEDO89d8L1pG"
   },
   "outputs": [],
   "source": [
    "# Importing all the necessary library\n",
    "\n",
    "from qiskit import QuantumCircuit, Aer, IBMQ, QuantumRegister, ClassicalRegister, execute\n",
    "from qiskit.tools.jupyter import *\n",
    "from qiskit.visualization import *\n",
    "import qiskit.tools.jupyter\n",
    "import ipywidgets as widgets"
   ]
  },
  {
   "cell_type": "code",
   "execution_count": 2,
   "metadata": {},
   "outputs": [],
   "source": [
    "# Building the initial circuit\n",
    "\n",
    "def initial_circuit():\n",
    "    circuit = QuantumRegister(1, 'circuit')\n",
    "    measure = ClassicalRegister(1, 'result')\n",
    "    qc = QuantumCircuit(circuit, measure)\n",
    "    qc.draw('mpl')\n",
    "    return qc, circuit, measure"
   ]
  },
  {
   "cell_type": "code",
   "execution_count": 3,
   "metadata": {},
   "outputs": [],
   "source": [
    "# Widget Initialization\n",
    "\n",
    "gate = widgets.Dropdown(\n",
    "    options=[('Identity', 'i'), ('Bit Flip', 'x')],\n",
    "    description='Choice: ',\n",
    "    disabled=False,\n",
    ")"
   ]
  },
  {
   "cell_type": "markdown",
   "metadata": {},
   "source": [
    "### **Optimal Strategy** <a id=\"optimal\"></a>"
   ]
  },
  {
   "cell_type": "markdown",
   "metadata": {},
   "source": [
    "Using the above approach the possibility table reduces to-\n",
    "\n",
    "<table>\n",
    "<tr>\n",
    "    <th>Start State</th>\n",
    "    <th>Quantum</th>\n",
    "    <th>Classical</th>\n",
    "    <th>Quantum</th>\n",
    "    <th>Result</th>\n",
    "    <th>Who Wins?</th>\n",
    "</tr>\n",
    "<tr>\n",
    "    <td>$|0\\rangle$</td>\n",
    "    <td>$H$</td>\n",
    "    <td>$I$</td>\n",
    "    <td>$H$</td>\n",
    "    <td>$|0\\rangle$</td>\n",
    "    <td>Quantum</td>\n",
    "</tr>\n",
    "<tr>\n",
    "    <td>$|0\\rangle$</td>\n",
    "    <td>$H$</td>\n",
    "    <td>$X$</td>\n",
    "    <td>$H$</td>\n",
    "    <td>$|0\\rangle$</td>\n",
    "    <td>Quantum</td>\n",
    "</tr>\n",
    "</table>\n",
    "\n",
    "Now lets look at the possibilities-\n",
    "\n",
    "\n",
    "1. Quantum Computer Wins ( $|0\\rangle$ ):\n",
    "\n",
    "$$\n",
    "\\frac{2}{2} = 100 \\%\n",
    "$$\n",
    "\n",
    "2. Classical Human Wins ( $|1\\rangle$ ):\n",
    "\n",
    "$$\n",
    "  \\frac{0}{2} = 0 \\%\n",
    "$$\n",
    "\n",
    "3. Either Quantum Computer or Classical Human Wins ( $|0\\rangle + |1\\rangle$ ):\n",
    "\n",
    "$$\n",
    "  \\frac{0}{2} = 0 \\%\n",
    "$$"
   ]
  },
  {
   "cell_type": "markdown",
   "metadata": {},
   "source": [
    "This table shows the quantum computer wins $100\\%$ of the time. But in Shohini's talk it is $~97\\%$, due to errors."
   ]
  },
  {
   "cell_type": "markdown",
   "metadata": {},
   "source": [
    "### **Lets play this version using Qiskit** <a id=\"quantum_play\"></a>"
   ]
  },
  {
   "cell_type": "markdown",
   "metadata": {},
   "source": [
    "#### Building the initial circuit"
   ]
  },
  {
   "cell_type": "code",
   "execution_count": 4,
   "metadata": {},
   "outputs": [],
   "source": [
    "qc, circuit, measure = initial_circuit()"
   ]
  },
  {
   "cell_type": "markdown",
   "metadata": {},
   "source": [
    "#### **Turn 1. Quantum Computer**"
   ]
  },
  {
   "cell_type": "code",
   "execution_count": 5,
   "metadata": {
    "scrolled": true
   },
   "outputs": [
    {
     "data": {
      "image/png": "[encoded data removed]",
      "text/plain": [
       "<Figure size 256.769x200.667 with 1 Axes>"
      ]
     },
     "execution_count": 5,
     "metadata": {},
     "output_type": "execute_result"
    }
   ],
   "source": [
    "# Use H Gate\n",
    "\n",
    "qc.h(circuit[0])\n",
    "qc.draw('mpl')"
   ]
  },
  {
   "cell_type": "markdown",
   "metadata": {},
   "source": [
    "#### **Turn 2. Classical Human**"
   ]
  },
  {
   "cell_type": "code",
   "execution_count": 6,
   "metadata": {},
   "outputs": [
    {
     "data": {
      "image/png": "[encoded data removed]",
      "text/plain": [
       "<Figure size 340.38x200.667 with 1 Axes>"
      ]
     },
     "execution_count": 6,
     "metadata": {},
     "output_type": "execute_result"
    }
   ],
   "source": [
    "if gate.value == 'i':\n",
    "    qc.i(circuit[0])\n",
    "if gate.value == 'x':\n",
    "    qc.x(circuit[0])\n",
    "\n",
    "qc.draw('mpl')"
   ]
  },
  {
   "cell_type": "markdown",
   "metadata": {},
   "source": [
    "#### **Turn 3. Quantum Computer**"
   ]
  },
  {
   "cell_type": "markdown",
   "metadata": {},
   "source": [
    "Quantum Computer uses Hadamard $H$ on its first turn"
   ]
  },
  {
   "cell_type": "code",
   "execution_count": 7,
   "metadata": {
    "scrolled": true
   },
   "outputs": [
    {
     "data": {
      "image/png": "[encoded data removed]",
      "text/plain": [
       "<Figure size 423.992x200.667 with 1 Axes>"
      ]
     },
     "execution_count": 7,
     "metadata": {},
     "output_type": "execute_result"
    }
   ],
   "source": [
    "# Used H Gate\n",
    "\n",
    "qc.h(circuit[0])\n",
    "qc.draw('mpl')"
   ]
  },
  {
   "cell_type": "markdown",
   "metadata": {},
   "source": [
    "#### **Measurement** <a id=\"quantum_measurement\"></a>"
   ]
  },
  {
   "cell_type": "code",
   "execution_count": 8,
   "metadata": {},
   "outputs": [
    {
     "data": {
      "image/png": "[encoded data removed]",
      "text/plain": [
       "<Figure size 507.603x200.667 with 1 Axes>"
      ]
     },
     "execution_count": 8,
     "metadata": {},
     "output_type": "execute_result"
    }
   ],
   "source": [
    "qc.measure(circuit, measure)\n",
    "qc.draw('mpl')"
   ]
  },
  {
   "cell_type": "markdown",
   "metadata": {},
   "source": [
    "#### **QASM_Simulator** <a id=\"quantum_qasm\"></a>"
   ]
  },
  {
   "cell_type": "code",
   "execution_count": 9,
   "metadata": {},
   "outputs": [
    {
     "name": "stdout",
     "output_type": "stream",
     "text": [
      "{'0': 8192}\n"
     ]
    },
    {
     "data": {
      "image/png": "[encoded data removed]",
      "text/plain": [
       "<Figure size 700x500 with 1 Axes>"
      ]
     },
     "execution_count": 9,
     "metadata": {},
     "output_type": "execute_result"
    }
   ],
   "source": [
    "backend = Aer.get_backend('aer_simulator')\n",
    "job = execute(qc, backend, shots=8192)\n",
    "res = job.result().get_counts()\n",
    "print(res)\n",
    "plot_histogram(res)"
   ]
  },
  {
   "cell_type": "markdown",
   "metadata": {
    "tags": []
   },
   "source": [
    "#### **Lets see who wins** <a id=\"quantum_wins\"></a>"
   ]
  },
  {
   "cell_type": "code",
   "execution_count": 10,
   "metadata": {},
   "outputs": [
    {
     "name": "stdout",
     "output_type": "stream",
     "text": [
      "Quantum Computer Wins\n"
     ]
    }
   ],
   "source": [
    "if len(res) == 1 and list(res.keys())[0] == '0':\n",
    "    print(\"Quantum Computer Wins\")\n",
    "if len(res) == 1 and list(res.keys())[0] == '1':\n",
    "    print(\"Classical Human Wins\")\n",
    "if len(res) == 2:\n",
    "    print(\"Either Quantum Computer or Classical Human Wins\")"
   ]
  },
  {
   "cell_type": "markdown",
   "metadata": {
    "tags": []
   },
   "source": [
    "#### **Running on Quantum Computer** <a id=\"real_qc\"></a>"
   ]
  },
  {
   "cell_type": "code",
   "execution_count": null,
   "metadata": {
    "tags": [
     "uses-hardware"
    ]
   },
   "outputs": [],
   "source": [
    "TOKEN = '08f81af1eb53e4e95bf1320007d38731fb30856cf88aa44fd9088125ea51e443c2069d3cc13fc8bb38fe926fb274793bb0c2b4be71f6e08dff818895504f90f0'\n",
    "IBMQ.save_account(TOKEN)\n",
    "provider = IBMQ.load_account()\n",
    "backend_real = provider.get_backend('ibmq_manila')\n",
    "job_real = execute(qc, backend_real, shots=8192)\n",
    "res_real = job_real.result().get_counts()\n",
    "print(res_real)\n",
    "plot_histogram(res_real)"
   ]
  },
  {
   "cell_type": "code",
   "execution_count": 14,
   "metadata": {},
   "outputs": [
    {
     "name": "stdout",
     "output_type": "stream",
     "text": [
      "{0: 99.1455078125, 1: 0.8544921875}\n"
     ]
    },
    {
     "data": {
      "image/png": "[encoded data removed]",
      "text/plain": [
       "<Figure size 700x500 with 1 Axes>"
      ]
     },
     "execution_count": 14,
     "metadata": {},
     "output_type": "execute_result"
    }
   ],
   "source": [
    "res_real = {0:99.1455078125, 1: 0.8544921875}\n",
    "print(res_real)\n",
    "plot_histogram(res_real)"
   ]
  },
  {
   "cell_type": "markdown",
   "metadata": {},
   "source": [
    "Unlike the perfect simulation, the real quantum computer only wins ~$99\\ \\%$ of the time, the $1\\ \\%$ in which it loses is due to errors. Quantum computers have improved a bit since [Shohini's talk](#conclusion) where the error is closer to $3\\ \\%$."
   ]
  },
  {
   "cell_type": "markdown",
   "metadata": {},
   "source": [
    "### Conclusion <a id=\"conclusion\"></a>"
   ]
  },
  {
   "cell_type": "markdown",
   "metadata": {},
   "source": [
    "This simple and yet fun little game shows the basic quantum states $|0\\rangle$, $|1\\rangle$, $|+\\rangle$ and $|−\\rangle$, plus the common ways of moving between them with the $X$, $H$, $I$, $Z$ gates. "
   ]
  },
  {
   "cell_type": "markdown",
   "metadata": {},
   "source": [
    "### References <a id=\"references\"></a>"
   ]
  },
  {
   "cell_type": "markdown",
   "metadata": {},
   "source": [
    "This notebook is inspired from:\n",
    "\n",
    " * [1]. [Ted talk by Sohini Ghosh](https://www.ted.com/talks/shohini_ghose_a_beginner_s_guide_to_quantum_computing#t-208006). \n",
    "\n",
    " * [2]. Quantum Coin Flipping from [Wikipedia](https://en.wikipedia.org/wiki/Quantum_coin_flipping)"
   ]
  },
  {
   "cell_type": "markdown",
   "metadata": {},
   "source": [
    "#### **Quick Exercise** <a id=\"quick_exercise\"></a>"
   ]
  },
  {
   "cell_type": "markdown",
   "metadata": {},
   "source": [
    "The rules of the game we learned so far are the main rules of the game.\n",
    "But, think of other variations of the game as well, tweak the game a little could result in significant change in answer. Such as-\n",
    "\n",
    "1. What if, instead of quantum computer taking first turn, the classical human take the first turn ?\n",
    "2. What if, instead of representing head as $|0\\rangle$, the tail is represented as $|0\\rangle$ ?\n",
    "3. What if, instead of using fair coin, we used unfair coin ?\n",
    "4. What if, instead of playing against a classical human, the quantum computer plays with another quantum computer ?\n",
    "5. What if, instead of having 3 turns, there are $n$ number of turns ?\n",
    "6. What if, instead of using all gates, restrict the use of some gates ?\n",
    "\n",
    "and many more variations are possible."
   ]
  },
  {
   "cell_type": "markdown",
   "metadata": {},
   "source": [
    "### Version Information <a id=\"version_information\"></a>"
   ]
  },
  {
   "cell_type": "code",
   "execution_count": null,
   "metadata": {},
   "outputs": [],
   "source": [
    "%qiskit_version_table"
   ]
  }
 ],
 "metadata": {
  "colab": {
   "collapsed_sections": [],
   "name": "Quantum Coin Game.ipynb",
   "provenance": []
  },
  "kernelspec": {
   "display_name": "Python 3 (ipykernel)",
   "language": "python",
   "name": "python3"
  },
  "language_info": {
   "codemirror_mode": {
    "name": "ipython",
    "version": 3
   },
   "file_extension": ".py",
   "mimetype": "text/x-python",
   "name": "python",
   "nbconvert_exporter": "python",
   "pygments_lexer": "ipython3",
   "version": "3.8.15"
  },
  "widgets": {
   "application/vnd.jupyter.widget-state+json": {
    "state": {
     "08a5b8cda0cc42a1bc6cb629874ec8c1": {
      "model_module": "@jupyter-widgets/base",
      "model_module_version": "1.2.0",
      "model_name": "LayoutModel",
      "state": {}
     },
     "0b94b3b828d44c1989e8d082e727adfa": {
      "model_module": "@jupyter-widgets/controls",
      "model_module_version": "1.5.0",
      "model_name": "DescriptionStyleModel",
      "state": {
       "description_width": ""
      }
     },
     "0bd0c2b3a824482fb1492a020498a39b": {
      "model_module": "@jupyter-widgets/controls",
      "model_module_version": "1.5.0",
      "model_name": "HTMLModel",
      "state": {
       "layout": "IPY_MODEL_1c90c32a5457462ab5e06e7c2ba63893",
       "style": "IPY_MODEL_c65a27ad205d41548f8c525fa8d8914f",
       "value": "<p style='font-family: IBM Plex Sans, Arial, Helvetica, sans-serif; font-size: 20px; font-weight: medium;'>Circuit Properties</p>"
      }
     },
     "10d2ff57e2fd4b7cb658279fa4b45ebf": {
      "model_module": "@jupyter-widgets/base",
      "model_module_version": "1.2.0",
      "model_name": "LayoutModel",
      "state": {
       "width": "190px"
      }
     },
     "1c90c32a5457462ab5e06e7c2ba63893": {
      "model_module": "@jupyter-widgets/base",
      "model_module_version": "1.2.0",
      "model_name": "LayoutModel",
      "state": {
       "margin": "0px 0px 10px 0px"
      }
     },
     "370ace99ca0a46c7ae3aa5038174597c": {
      "model_module": "@jupyter-widgets/base",
      "model_module_version": "1.2.0",
      "model_name": "LayoutModel",
      "state": {}
     },
     "429c5fffae3b45c38c16e21e50455ea6": {
      "model_module": "@jupyter-widgets/output",
      "model_module_version": "1.0.0",
      "model_name": "OutputModel",
      "state": {
       "layout": "IPY_MODEL_69fa47199d844e32be58a062adb66124",
       "outputs": [
        {
         "name": "stdout",
         "output_type": "stream",
         "text": "You Lose to Quantum. Quantum Computer Wins\n"
        },
        {
         "name": "stderr",
         "output_type": "stream",
         "text": "<frozen importlib._bootstrap>:219: RuntimeWarning: scipy._lib.messagestream.MessageStream size changed, may indicate binary incompatibility. Expected 56 from C header, got 64 from PyObject\n"
        },
        {
         "name": "stdout",
         "output_type": "stream",
         "text": "You Lose to Quantum. Quantum Computer Wins\nYou Lose to Quantum. Quantum Computer Wins\nYou Lose to Quantum. Quantum Computer Wins\nYou Lose to Quantum. Quantum Computer Wins\nYou Lose to Quantum. Quantum Computer Wins\nYou Lose to Quantum. Quantum Computer Wins\nYou Lose to Quantum. Quantum Computer Wins\nYou Lose to Quantum. Quantum Computer Wins\n"
        }
       ]
      }
     },
     "520d4944d1bb4b0a87abd5794becd399": {
      "model_module": "@jupyter-widgets/controls",
      "model_module_version": "1.5.0",
      "model_name": "ButtonStyleModel",
      "state": {}
     },
     "54c0738c76e04cfc82a16bf9866e8671": {
      "model_module": "@jupyter-widgets/base",
      "model_module_version": "1.2.0",
      "model_name": "LayoutModel",
      "state": {
       "width": "95px"
      }
     },
     "56678e83b787439daa7cf6bafd634355": {
      "model_module": "@jupyter-widgets/controls",
      "model_module_version": "1.5.0",
      "model_name": "HBoxModel",
      "state": {
       "children": [
        "IPY_MODEL_960cb28e2d5041d795436b3dde32d55a",
        "IPY_MODEL_7ee885c115c84bc6802dd62bbe8c4a26",
        "IPY_MODEL_97b80aade1d148a5b780c0ec4ac0217e",
        "IPY_MODEL_8b582ddb32fc4d499a28378155874609",
        "IPY_MODEL_9ce3e056421e4260b8f6a60f6ad6b1a4"
       ],
       "layout": "IPY_MODEL_f239e0fe283041c9acf2ca5567f66806"
      }
     },
     "69fa47199d844e32be58a062adb66124": {
      "model_module": "@jupyter-widgets/base",
      "model_module_version": "1.2.0",
      "model_name": "LayoutModel",
      "state": {}
     },
     "72eaadbfedcd4536a9cb29133ca0933e": {
      "model_module": "@jupyter-widgets/controls",
      "model_module_version": "1.5.0",
      "model_name": "GridBoxModel",
      "state": {
       "children": [
        "IPY_MODEL_ec28cfc650534577bf84fa9aee7e1d67"
       ],
       "layout": "IPY_MODEL_eeefe57490a941a195d329387ce06116"
      }
     },
     "7ee885c115c84bc6802dd62bbe8c4a26": {
      "model_module": "@jupyter-widgets/controls",
      "model_module_version": "1.5.0",
      "model_name": "HTMLModel",
      "state": {
       "layout": "IPY_MODEL_e425bca37d30448ea1bc4928c972e070",
       "style": "IPY_MODEL_97746317db584709806969225aef621d",
       "value": "<h5>Backend</h5>"
      }
     },
     "85ca5b8f0380470888240713e7bbb86c": {
      "model_module": "@jupyter-widgets/controls",
      "model_module_version": "1.5.0",
      "model_name": "DescriptionStyleModel",
      "state": {
       "description_width": ""
      }
     },
     "85d08ca47c9744e58dea2aa0304a74ea": {
      "model_module": "@jupyter-widgets/controls",
      "model_module_version": "1.5.0",
      "model_name": "DescriptionStyleModel",
      "state": {
       "description_width": ""
      }
     },
     "884d874e5df64b61b3420e0d59289d2b": {
      "model_module": "@jupyter-widgets/base",
      "model_module_version": "1.2.0",
      "model_name": "LayoutModel",
      "state": {
       "width": "70px"
      }
     },
     "8b582ddb32fc4d499a28378155874609": {
      "model_module": "@jupyter-widgets/controls",
      "model_module_version": "1.5.0",
      "model_name": "HTMLModel",
      "state": {
       "layout": "IPY_MODEL_884d874e5df64b61b3420e0d59289d2b",
       "style": "IPY_MODEL_b7fb29a7d15845fe8e1e0d7825c7eb87",
       "value": "<h5>Queue</h5>"
      }
     },
     "942f56912ecd44058c8f412af47205d7": {
      "model_module": "@jupyter-widgets/base",
      "model_module_version": "1.2.0",
      "model_name": "LayoutModel",
      "state": {}
     },
     "960cb28e2d5041d795436b3dde32d55a": {
      "model_module": "@jupyter-widgets/controls",
      "model_module_version": "1.5.0",
      "model_name": "HTMLModel",
      "state": {
       "layout": "IPY_MODEL_10d2ff57e2fd4b7cb658279fa4b45ebf",
       "style": "IPY_MODEL_85ca5b8f0380470888240713e7bbb86c",
       "value": "<h5>Job ID</h5>"
      }
     },
     "97746317db584709806969225aef621d": {
      "model_module": "@jupyter-widgets/controls",
      "model_module_version": "1.5.0",
      "model_name": "DescriptionStyleModel",
      "state": {
       "description_width": ""
      }
     },
     "97b80aade1d148a5b780c0ec4ac0217e": {
      "model_module": "@jupyter-widgets/controls",
      "model_module_version": "1.5.0",
      "model_name": "HTMLModel",
      "state": {
       "layout": "IPY_MODEL_54c0738c76e04cfc82a16bf9866e8671",
       "style": "IPY_MODEL_85d08ca47c9744e58dea2aa0304a74ea",
       "value": "<h5>Status</h5>"
      }
     },
     "9a135ad6f4c946ad90c6bbdac8996774": {
      "model_module": "@jupyter-widgets/controls",
      "model_module_version": "1.5.0",
      "model_name": "VBoxModel",
      "state": {
       "children": [
        "IPY_MODEL_fe86c03d8ebb4095bee5da22f11a485c",
        "IPY_MODEL_f8ea4acdbf2f42739de23a37433691e5",
        "IPY_MODEL_429c5fffae3b45c38c16e21e50455ea6"
       ],
       "layout": "IPY_MODEL_370ace99ca0a46c7ae3aa5038174597c"
      }
     },
     "9ce3e056421e4260b8f6a60f6ad6b1a4": {
      "model_module": "@jupyter-widgets/controls",
      "model_module_version": "1.5.0",
      "model_name": "HTMLModel",
      "state": {
       "layout": "IPY_MODEL_aaf739bbfa684c94998b621261a2ffe6",
       "style": "IPY_MODEL_0b94b3b828d44c1989e8d082e727adfa",
       "value": "<h5>Message</h5>"
      }
     },
     "aaf739bbfa684c94998b621261a2ffe6": {
      "model_module": "@jupyter-widgets/base",
      "model_module_version": "1.2.0",
      "model_name": "LayoutModel",
      "state": {}
     },
     "b630cdbcb5dd4eaa827992941c5d1c70": {
      "model_module": "@jupyter-widgets/controls",
      "model_module_version": "1.5.0",
      "model_name": "DescriptionStyleModel",
      "state": {
       "description_width": ""
      }
     },
     "b7fb29a7d15845fe8e1e0d7825c7eb87": {
      "model_module": "@jupyter-widgets/controls",
      "model_module_version": "1.5.0",
      "model_name": "DescriptionStyleModel",
      "state": {
       "description_width": ""
      }
     },
     "c33b4ed2bc0e4c93bd4c2def61849f81": {
      "model_module": "@jupyter-widgets/controls",
      "model_module_version": "1.5.0",
      "model_name": "ButtonStyleModel",
      "state": {}
     },
     "c65a27ad205d41548f8c525fa8d8914f": {
      "model_module": "@jupyter-widgets/controls",
      "model_module_version": "1.5.0",
      "model_name": "DescriptionStyleModel",
      "state": {
       "description_width": ""
      }
     },
     "e425bca37d30448ea1bc4928c972e070": {
      "model_module": "@jupyter-widgets/base",
      "model_module_version": "1.2.0",
      "model_name": "LayoutModel",
      "state": {
       "width": "145px"
      }
     },
     "ec28cfc650534577bf84fa9aee7e1d67": {
      "model_module": "@jupyter-widgets/controls",
      "model_module_version": "1.5.0",
      "model_name": "ButtonModel",
      "state": {
       "button_style": "primary",
       "description": "Clear",
       "layout": "IPY_MODEL_f2076a745de04f4ab0f64ad78cc9a606",
       "style": "IPY_MODEL_c33b4ed2bc0e4c93bd4c2def61849f81"
      }
     },
     "eeefe57490a941a195d329387ce06116": {
      "model_module": "@jupyter-widgets/base",
      "model_module_version": "1.2.0",
      "model_name": "LayoutModel",
      "state": {
       "grid_template_areas": "\n                                       \". . . . right \"\n                                        ",
       "grid_template_columns": "20% 20% 20% 20% 20%",
       "width": "100%"
      }
     },
     "f2076a745de04f4ab0f64ad78cc9a606": {
      "model_module": "@jupyter-widgets/base",
      "model_module_version": "1.2.0",
      "model_name": "LayoutModel",
      "state": {
       "grid_area": "right",
       "padding": "0px 0px 0px 0px",
       "width": "70px"
      }
     },
     "f239e0fe283041c9acf2ca5567f66806": {
      "model_module": "@jupyter-widgets/base",
      "model_module_version": "1.2.0",
      "model_name": "LayoutModel",
      "state": {
       "margin": "0px 0px 0px 37px",
       "width": "600px"
      }
     },
     "f8ea4acdbf2f42739de23a37433691e5": {
      "model_module": "@jupyter-widgets/controls",
      "model_module_version": "1.5.0",
      "model_name": "ButtonModel",
      "state": {
       "description": "Play",
       "layout": "IPY_MODEL_942f56912ecd44058c8f412af47205d7",
       "style": "IPY_MODEL_520d4944d1bb4b0a87abd5794becd399"
      }
     },
     "fe86c03d8ebb4095bee5da22f11a485c": {
      "model_module": "@jupyter-widgets/controls",
      "model_module_version": "1.5.0",
      "model_name": "DropdownModel",
      "state": {
       "_options_labels": [
        "Identity",
        "Bit Flip"
       ],
       "description": "Choice: ",
       "index": 1,
       "layout": "IPY_MODEL_08a5b8cda0cc42a1bc6cb629874ec8c1",
       "style": "IPY_MODEL_b630cdbcb5dd4eaa827992941c5d1c70"
      }
     }
    },
    "version_major": 2,
    "version_minor": 0
   }
  }
 },
 "nbformat": 4,
 "nbformat_minor": 4
}
